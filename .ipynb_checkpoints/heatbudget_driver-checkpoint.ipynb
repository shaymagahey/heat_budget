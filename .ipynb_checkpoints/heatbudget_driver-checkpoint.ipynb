{
 "cells": [
  {
   "cell_type": "code",
   "execution_count": 1,
   "id": "597f1ea3-22f9-45a9-8f8a-f82d0fa30e7f",
   "metadata": {},
   "outputs": [],
   "source": [
    "import xarray as xr\n",
    "import pandas as pd\n",
    "import numpy as np\n",
    "import matplotlib.pyplot as plt\n",
    "import cartopy.crs as ccrs\n",
    "from composite_functions import fb_evolution_composites\n",
    "from advection_rd_ml import advection_rd_ml\n",
    "from vertical_advection_rd_ml import vertical_advection_rd_ml"
   ]
  },
  {
   "cell_type": "code",
   "execution_count": 2,
   "id": "48f6d6d6-c401-4b49-a288-c6fa3131d989",
   "metadata": {},
   "outputs": [],
   "source": [
    "def mld_avg_var(mld,var,z):\n",
    "    zmask= (z < mld) # z above mixed layer\n",
    "    var=var.convert_calendar(\"proleptic_gregorian\",use_cftime=False)\n",
    "    intfield=var.where(zmask, drop=True).mean('lev').squeeze()\n",
    "    return intfield"
   ]
  },
  {
   "cell_type": "code",
   "execution_count": 3,
   "id": "8fa89038-35ee-488e-92e0-780ca41d33a8",
   "metadata": {},
   "outputs": [],
   "source": [
    "def sub_ML_avg_var(mld,var,z):\n",
    "    zmask= (z > mld) # z below mixed layer\n",
    "    #print(zmask)\n",
    "    var=var.convert_calendar(\"proleptic_gregorian\",use_cftime=False)\n",
    "    fld=var.where(zmask, drop=False).squeeze()\n",
    "    i=(fld.notnull().argmax(dim='lev'))\n",
    "    fldsub=fld.isel(lev=i)\n",
    "    return fldsub"
   ]
  },
  {
   "cell_type": "code",
   "execution_count": 4,
   "id": "beec038f-ffa0-46f9-ab1f-2fd67aa6af8d",
   "metadata": {},
   "outputs": [],
   "source": [
    "def calc_qpen(SW,MLD):\n",
    "    eu=2.71818\n",
    "    T1=0.58*eu**(-MLD/0.35)\n",
    "    T2=0.42*eu**(-MLD/23)\n",
    "    qpen=SW*(T1+T2)\n",
    "    return qpen"
   ]
  },
  {
   "cell_type": "code",
   "execution_count": 5,
   "id": "bc2c523d-e376-445a-999c-fb017260b1a6",
   "metadata": {},
   "outputs": [],
   "source": [
    "timesfut=[\"2070-01\",\"2100-01\"]\n",
    "timespi=[\"1850-01\",\"1880-01\"]\n",
    "tipast=[\"1850-01\",\"2015-01\"]\n",
    "tissp=[\"2015-01\",\"2100-01\"]\n",
    "n3=[-5,5,210,270] #Nino3\n",
    "n34=[-5,5,190,240] # nino3.4?\n",
    "n4=[-5,5,160,210]\n",
    "pac=[-5,5,120,280]\n",
    "regbox=[-40,40,90,300]"
   ]
  },
  {
   "cell_type": "code",
   "execution_count": 6,
   "id": "4273babd-812d-47cc-ae19-fefee3dd792a",
   "metadata": {},
   "outputs": [],
   "source": [
    "ds_sst=xr.open_dataset(\"/glade/work/smagahey/UCSB/codes/generated_files/tos_1850_2100_E3SMv1LE.nc\")\n",
    "tos=ds_sst['tos']\n",
    "time=ds_sst['time']"
   ]
  },
  {
   "cell_type": "code",
   "execution_count": 7,
   "id": "5d072238-f043-41e4-bd5f-d3f956348c07",
   "metadata": {},
   "outputs": [],
   "source": [
    "dsThist=xr.open_dataset(\"/glade/work/smagahey/UCSB/codes/generated_files/thetao_2070_2100_E3SMv1LE.nc\")\n",
    "dsWhist=xr.open_dataset(\"/glade/work/smagahey/UCSB/codes/generated_files/wo_2070_2100_E3SMv1LE.nc\")\n",
    "dsUhist=xr.open_dataset(\"/glade/work/smagahey/UCSB/codes/generated_files/uo_2070_2100_E3SMv1LE.nc\")\n",
    "dsVhist=xr.open_dataset(\"/glade/work/smagahey/UCSB/codes/generated_files/vo_2070_2100_E3SMv1LE.nc\")\n",
    "dsHF=xr.open_dataset(\"/glade/work/smagahey/UCSB/codes/generated_files/hfds_1850_2100_E3SMv1LE.nc\")\n",
    "dsSW=xr.open_dataset(\"/glade/work/smagahey/UCSB/codes/generated_files/rsds_1850_2100_E3SMv1LE.nc\")\n",
    "dsML=xr.open_dataset(\"/glade/work/smagahey/UCSB/codes/generated_files/mlotst_1850_2100_E3SMv1LE.nc\")\n",
    "dsS=xr.open_dataset(\"/glade/work/smagahey/UCSB/codes/generated_files/sos_1850_2100_E3SMv1LE.nc\")"
   ]
  },
  {
   "cell_type": "code",
   "execution_count": 8,
   "id": "f8328308-ac7f-4372-b17c-cfed58a0c40f",
   "metadata": {},
   "outputs": [],
   "source": [
    "Th=dsThist['thetao'].sel(lat=slice(n34[0],n34[1]),lon=slice(pac[2],pac[3])) #.mean('lat').mean('lon')\n",
    "Wh=dsWhist['wo'].sel(lat=slice(n34[0],n34[1]),lon=slice(pac[2],pac[3])) #.mean('lat').mean('lon')\n",
    "Uh=dsUhist['uo'].sel(lat=slice(n34[0],n34[1]),lon=slice(pac[2],pac[3])) #.mean('lat').mean('lon')\n",
    "Vh=dsVhist['vo'].sel(lat=slice(n34[0],n34[1]),lon=slice(pac[2],pac[3]))\n",
    "HF=dsHF['hfds'].sel(lat=slice(n34[0],n34[1]),lon=slice(pac[2],pac[3]),time=slice(timesfut[0],timesfut[1]))\n",
    "SW=dsSW['rsds'].sel(lat=slice(n34[0],n34[1]),lon=slice(pac[2],pac[3]),time=slice(timesfut[0],timesfut[1]))\n",
    "MLD=dsML['mlotst'].sel(lat=slice(n34[0],n34[1]),lon=slice(pac[2],pac[3]),time=slice(timesfut[0],timesfut[1]))\n",
    "sal=dsS['sos'].sel(lat=slice(n34[0],n34[1]),lon=slice(pac[2],pac[3]),time=slice(timesfut[0],timesfut[1]))"
   ]
  },
  {
   "cell_type": "code",
   "execution_count": 9,
   "id": "1e08e7cd-30b8-494d-83c5-7b9f33ad6744",
   "metadata": {},
   "outputs": [],
   "source": [
    "lat=dsML['lat']\n",
    "lon=dsML['lon']"
   ]
  },
  {
   "cell_type": "code",
   "execution_count": 10,
   "id": "0ca3bf68-2aa9-4844-9f70-19450fdd19c4",
   "metadata": {},
   "outputs": [],
   "source": [
    "Qpen=calc_qpen(SW,MLD[1:,:,:,:])\n",
    "THFLX=HF[1:,:,:,:]-Qpen\n",
    "TH=THFLX/(3850*1025*MLD[1:,:,:,:])"
   ]
  },
  {
   "cell_type": "code",
   "execution_count": 11,
   "id": "b0a160a2-5be4-48a7-aef4-fabb1bc6ad88",
   "metadata": {},
   "outputs": [],
   "source": [
    "MLD=MLD.convert_calendar(\"proleptic_gregorian\",use_cftime=False)"
   ]
  },
  {
   "cell_type": "code",
   "execution_count": 12,
   "id": "4b85501f-be18-49c2-a798-098424c2f80f",
   "metadata": {},
   "outputs": [],
   "source": [
    "int_T=mld_avg_var(MLD[1:,:,:,:],Th,Th.lev)\n",
    "int_U=mld_avg_var(MLD[1:,:,:,:],Uh,Uh.lev)\n",
    "int_V=mld_avg_var(MLD[1:,:,:,:],Vh,Vh.lev)\n",
    "int_W=mld_avg_var(MLD[1:,:,:,:],Wh,Wh.lev)"
   ]
  },
  {
   "cell_type": "code",
   "execution_count": 13,
   "id": "9caf5510-513b-4bbb-ac23-633eaf6c50ae",
   "metadata": {},
   "outputs": [],
   "source": [
    "# get temps, velocities below ML\n",
    "sub_int_T=sub_ML_avg_var(MLD[1:,:,:,:],Th,Th.lev)\n",
    "sub_int_U=sub_ML_avg_var(MLD[1:,:,:,:],Uh,Uh.lev)\n",
    "sub_int_V=sub_ML_avg_var(MLD[1:,:,:,:],Vh,Vh.lev)\n",
    "sub_int_W=sub_ML_avg_var(MLD[1:,:,:,:],Wh,Wh.lev)"
   ]
  },
  {
   "cell_type": "code",
   "execution_count": 14,
   "id": "c7203d2a-4864-48c9-b94e-37344ad7d912",
   "metadata": {},
   "outputs": [],
   "source": [
    "mnadv_climU,mnadv_climV,ekman,T1,h_eddy,dSpdt=advection_rd_ml(sal,lat,lon,time,int_U,int_V,1,)"
   ]
  },
  {
   "cell_type": "code",
   "execution_count": 15,
   "id": "0d770a8d-750e-43a2-bbda-582fa4ac8905",
   "metadata": {},
   "outputs": [
    {
     "name": "stdout",
     "output_type": "stream",
     "text": [
      "tm_mld shape= (15, 12, 10, 160)\n",
      "wtmp shape= (15, 359, 9, 159, 12)\n"
     ]
    }
   ],
   "source": [
    "up,thermo,eddy,updTpbar=vertical_advection_rd_ml(MLD[1:,:,:,:],lat,lon,int_T,int_U,int_V,sub_int_W,sub_int_T)"
   ]
  },
  {
   "cell_type": "code",
   "execution_count": 16,
   "id": "00b96a8a-b19a-463b-b102-d38c84b5e4f4",
   "metadata": {
    "scrolled": true
   },
   "outputs": [],
   "source": [
    "upwelling=up.drop_vars('lev')*86400*30.41\n",
    "thermocline=thermo.drop_vars('lev')*86400*30.41\n",
    "Q=TH*86400*30.41\n",
    "eddyV=eddy.drop_vars('lev')*86400*30.41\n",
    "updT=updTpbar*86400*30.41\n",
    "ekman=ekman*86400*30.41\n",
    "T1=T1*86400*30.41\n",
    "eddyH=h_eddy*86400*30.41"
   ]
  },
  {
   "cell_type": "code",
   "execution_count": 17,
   "id": "aa2a3a4e-6504-4a5e-b02d-c4bcfc1445f4",
   "metadata": {},
   "outputs": [],
   "source": [
    "Q=Q.convert_calendar(\"proleptic_gregorian\",use_cftime=False)\n",
    "T1=T1.convert_calendar(\"proleptic_gregorian\",use_cftime=False)"
   ]
  },
  {
   "cell_type": "code",
   "execution_count": 18,
   "id": "4fdcbda2-0287-4e3e-9f0d-a159026465c7",
   "metadata": {},
   "outputs": [],
   "source": [
    "temptend= Q - T1 - ekman - eddyH - upwelling - thermocline - eddyV"
   ]
  },
  {
   "cell_type": "code",
   "execution_count": 19,
   "id": "af3b7b3a-31d8-4c59-a1c9-4dd1314903ba",
   "metadata": {},
   "outputs": [],
   "source": [
    "hb_data=xr.Dataset({'temp_tend':temptend,'Q':Q,'umdTpdx':T1,'ekman':ekman,'eddyH':eddyH,'upwelling':upwelling,'thermocline':thermocline,'eddyV':eddyV})\n",
    "hb_data.to_netcdf('/glade/work/smagahey/UCSB/codes/ML_heat_budget/python_hb/hist_hb_terms.nc')"
   ]
  },
  {
   "cell_type": "code",
   "execution_count": null,
   "id": "9a0c74b9-8abb-4d46-b2a2-206002e2e528",
   "metadata": {},
   "outputs": [],
   "source": []
  }
 ],
 "metadata": {
  "kernelspec": {
   "display_name": "shay_env1",
   "language": "python",
   "name": "shay_env1"
  },
  "language_info": {
   "codemirror_mode": {
    "name": "ipython",
    "version": 3
   },
   "file_extension": ".py",
   "mimetype": "text/x-python",
   "name": "python",
   "nbconvert_exporter": "python",
   "pygments_lexer": "ipython3",
   "version": "3.10.9"
  }
 },
 "nbformat": 4,
 "nbformat_minor": 5
}
